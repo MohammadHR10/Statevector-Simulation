{
  "nbformat": 4,
  "nbformat_minor": 0,
  "metadata": {
    "colab": {
      "provenance": []
    },
    "kernelspec": {
      "name": "python3",
      "display_name": "Python 3"
    },
    "language_info": {
      "name": "python"
    }
  },
  "cells": [
    {
      "cell_type": "code",
      "execution_count": 1,
      "metadata": {
        "colab": {
          "base_uri": "https://localhost:8080/"
        },
        "id": "-T75phWN7oSt",
        "outputId": "679775a9-b3cf-49fe-892b-5b551fbbad0b"
      },
      "outputs": [
        {
          "output_type": "stream",
          "name": "stdout",
          "text": [
            "Requirement already satisfied: numpy in /usr/local/lib/python3.10/dist-packages (1.26.4)\n",
            "Requirement already satisfied: matplotlib in /usr/local/lib/python3.10/dist-packages (3.7.1)\n",
            "Requirement already satisfied: contourpy>=1.0.1 in /usr/local/lib/python3.10/dist-packages (from matplotlib) (1.3.0)\n",
            "Requirement already satisfied: cycler>=0.10 in /usr/local/lib/python3.10/dist-packages (from matplotlib) (0.12.1)\n",
            "Requirement already satisfied: fonttools>=4.22.0 in /usr/local/lib/python3.10/dist-packages (from matplotlib) (4.54.1)\n",
            "Requirement already satisfied: kiwisolver>=1.0.1 in /usr/local/lib/python3.10/dist-packages (from matplotlib) (1.4.7)\n",
            "Requirement already satisfied: packaging>=20.0 in /usr/local/lib/python3.10/dist-packages (from matplotlib) (24.1)\n",
            "Requirement already satisfied: pillow>=6.2.0 in /usr/local/lib/python3.10/dist-packages (from matplotlib) (10.4.0)\n",
            "Requirement already satisfied: pyparsing>=2.3.1 in /usr/local/lib/python3.10/dist-packages (from matplotlib) (3.2.0)\n",
            "Requirement already satisfied: python-dateutil>=2.7 in /usr/local/lib/python3.10/dist-packages (from matplotlib) (2.8.2)\n",
            "Requirement already satisfied: six>=1.5 in /usr/local/lib/python3.10/dist-packages (from python-dateutil>=2.7->matplotlib) (1.16.0)\n"
          ]
        }
      ],
      "source": [
        "pip install numpy matplotlib\n"
      ]
    },
    {
      "cell_type": "code",
      "source": [
        "import numpy as np\n",
        "import time\n",
        "import matplotlib.pyplot as plt"
      ],
      "metadata": {
        "id": "Y3xNg_K87p2s"
      },
      "execution_count": 15,
      "outputs": []
    },
    {
      "cell_type": "code",
      "source": [
        "I = np.array([[1, 0], [0, 1]])  # Identity Gate\n",
        "X = np.array([[0, 1], [1, 0]])  # Pauli-X Gate\n",
        "H = (1 / np.sqrt(2)) * np.array([[1, 1], [1, -1]])  # Hadamard Gate\n",
        "CNOT = np.array([[1, 0, 0, 0],  # CNOT Gate\n",
        "                 [0, 1, 0, 0],\n",
        "                 [0, 0, 0, 1],\n",
        "                 [0, 0, 1, 0]])\n"
      ],
      "metadata": {
        "id": "2VAvT-V47p6D"
      },
      "execution_count": 16,
      "outputs": []
    },
    {
      "cell_type": "code",
      "source": [
        "def statevector(num_qubits):\n",
        "  state = np.array([1,0])\n",
        "\n",
        "  for i in range(num_qubits-1):\n",
        "    state = np.kron(state, np.array([1,0]))\n",
        "  return state"
      ],
      "metadata": {
        "id": "5DxUWn7_7p86"
      },
      "execution_count": 17,
      "outputs": []
    },
    {
      "cell_type": "code",
      "source": [
        "def apply_gate(state, gate, qubit, num_qubits):\n",
        "    \"\"\"Apply a gate to the specified qubit in the statevector.\"\"\"\n",
        "    full_gate = I if qubit != 0 else gate\n",
        "    for i in range(1, num_qubits):\n",
        "        full_gate = np.kron(full_gate, gate if i == qubit else I)\n",
        "    return np.dot(full_gate, state)\n"
      ],
      "metadata": {
        "id": "BTOWERNH7p_5"
      },
      "execution_count": 18,
      "outputs": []
    },
    {
      "cell_type": "code",
      "source": [],
      "metadata": {
        "colab": {
          "base_uri": "https://localhost:8080/"
        },
        "id": "_8I45f6KlgIi",
        "outputId": "206c1fd6-0c0e-4323-9cb7-dff36d0f6739"
      },
      "execution_count": 20,
      "outputs": [
        {
          "output_type": "stream",
          "name": "stdout",
          "text": [
            "Initial state vector: [1 0 0 0]\n",
            "State after applying X to qubit 0: [0 0 1 0]\n",
            "State after applying Hadamard to qubit 1: [0.         0.         0.70710678 0.70710678]\n"
          ]
        }
      ]
    },
    {
      "cell_type": "code",
      "source": [
        "def simulate_circuit(num_qubits):\n",
        "    \"\"\"Simulate a circuit with Hadamard and X gates.\"\"\"\n",
        "    # Initialize the statevector |0>^n\n",
        "    state = initialize_state(num_qubits)\n",
        "\n",
        "    # Apply a Hadamard gate to the first qubit\n",
        "    state = apply_gate(state, H, 0, num_qubits)\n",
        "\n",
        "    # Apply an X gate to the second qubit, if present\n",
        "    if num_qubits > 1:\n",
        "        state = apply_gate(state, X, 1, num_qubits)\n",
        "\n",
        "    return state\n"
      ],
      "metadata": {
        "id": "zZAOZuj37qCw"
      },
      "execution_count": 21,
      "outputs": []
    },
    {
      "cell_type": "code",
      "source": [
        "# Number of qubits in the system\n",
        "n = 2\n",
        "\n",
        "# Initialize the state vector for 2 qubits: |00⟩\n",
        "state = statevector(n)\n",
        "print(\"Initial state vector:\", state)\n",
        "\n",
        "# Apply X gate to the first qubit (qubit 0)\n",
        "state = apply_gate(state, X, 0, n)\n",
        "print(\"State after applying X to qubit 0:\", state)\n",
        "\n",
        "# Apply Hadamard gate to the second qubit (qubit 1)\n",
        "state = apply_gate(state, H, 1, n)\n",
        "print(\"State after applying Hadamard to qubit 1:\", state)\n"
      ],
      "metadata": {
        "colab": {
          "base_uri": "https://localhost:8080/"
        },
        "id": "f4CnqLBmmFAD",
        "outputId": "e777adb4-6e41-4fda-f90a-cba7bfa9908a"
      },
      "execution_count": 22,
      "outputs": [
        {
          "output_type": "stream",
          "name": "stdout",
          "text": [
            "Initial state vector: [1 0 0 0]\n",
            "State after applying X to qubit 0: [0 0 1 0]\n",
            "State after applying Hadamard to qubit 1: [0.         0.         0.70710678 0.70710678]\n"
          ]
        }
      ]
    },
    {
      "cell_type": "code",
      "source": [
        "def measure_runtime(max_qubits):\n",
        "    \"\"\"Measure runtime as a function of the number of qubits.\"\"\"\n",
        "    runtimes = []\n",
        "    qubits = list(range(1, max_qubits + 1))\n",
        "\n",
        "    for n in qubits:\n",
        "        start_time = time.time()\n",
        "        simulate_circuit(n)\n",
        "        runtime = time.time() - start_time\n",
        "        runtimes.append(runtime)\n",
        "\n",
        "    return qubits, runtimes\n"
      ],
      "metadata": {
        "id": "EG3Q53Li7qGi"
      },
      "execution_count": 10,
      "outputs": []
    },
    {
      "cell_type": "code",
      "source": [
        "max_qubits = 3  # Adjust based on your machine's limits\n",
        "qubits, runtimes = measure_runtime(max_qubits)\n",
        "\n",
        "plt.plot(qubits, runtimes, marker='o')\n",
        "plt.xlabel('Number of Qubits')\n",
        "plt.ylabel('Runtime (seconds)')\n",
        "plt.title('Runtime of Naive Statevector Simulation')\n",
        "plt.grid(True)\n",
        "plt.show()\n"
      ],
      "metadata": {
        "colab": {
          "base_uri": "https://localhost:8080/",
          "height": 472
        },
        "id": "hewdJYiC7qJh",
        "outputId": "57d35fca-d0e4-493a-82aa-bea5799834c0"
      },
      "execution_count": 11,
      "outputs": [
        {
          "output_type": "display_data",
          "data": {
            "text/plain": [
              "<Figure size 640x480 with 1 Axes>"
            ],
            "image/png": "[encoded data removed]"
          },
          "metadata": {}
        }
      ]
    },
    {
      "cell_type": "code",
      "source": [],
      "metadata": {
        "id": "7HhZZT7r7qMh"
      },
      "execution_count": null,
      "outputs": []
    },
    {
      "cell_type": "code",
      "source": [],
      "metadata": {
        "id": "OlVPBbA27qPI"
      },
      "execution_count": null,
      "outputs": []
    },
    {
      "cell_type": "code",
      "source": [],
      "metadata": {
        "id": "wTvOX6O-7qSE"
      },
      "execution_count": null,
      "outputs": []
    },
    {
      "cell_type": "code",
      "source": [],
      "metadata": {
        "id": "3SfhFDjY7qU8"
      },
      "execution_count": null,
      "outputs": []
    },
    {
      "cell_type": "code",
      "source": [],
      "metadata": {
        "id": "2ahTF8JG7qXr"
      },
      "execution_count": null,
      "outputs": []
    }
  ]
}